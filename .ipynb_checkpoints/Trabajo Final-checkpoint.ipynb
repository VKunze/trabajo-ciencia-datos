{
 "cells": [
  {
   "cell_type": "markdown",
   "metadata": {},
   "source": [
    "</center><img src=\"https://www3.um.edu.uy/logoum.jpg\" width=300></center>\n",
    "<h1 align=\"center\">Introducción a la Ciencia de Datos</h1>\n",
    "<h2 align=\"center\"> <font color='gray'>Trabajo Final</font></h2>"
   ]
  },
  {
   "cell_type": "code",
   "execution_count": 2,
   "metadata": {},
   "outputs": [],
   "source": [
    "import datetime\n",
    "import itertools\n",
    "import math\n",
    "import matplotlib.pyplot as plt\n",
    "import numpy as np\n",
    "import pandas as pd\n",
    "import seaborn as sns"
   ]
  },
  {
   "cell_type": "code",
   "execution_count": 3,
   "metadata": {},
   "outputs": [],
   "source": [
    "data = pd.read_csv('data.csv')\n",
    "data.head(10)\n",
    "\n",
    "clean_data = data"
   ]
  },
  {
   "cell_type": "markdown",
   "metadata": {},
   "source": [
    "Serrana:\n",
    "age: edad\n",
    "housing: ¿tiene préstamo para vivienda? -> binaria, faltantes (?) - evaluar correlacion con otras columnas (trabajo, edad) \n",
    "duration: duración último contacto, en segundos -> dividir en categorias (data binning: equal width o frequency)"
   ]
  },
  {
   "cell_type": "markdown",
   "metadata": {},
   "source": [
    "## Age"
   ]
  },
  {
   "cell_type": "markdown",
   "metadata": {},
   "source": [
    "#### Outliers"
   ]
  },
  {
   "cell_type": "code",
   "execution_count": 4,
   "metadata": {},
   "outputs": [
    {
     "name": "stdout",
     "output_type": "stream",
     "text": [
      "The max (98) and min (17) ages are within normal ranges\n"
     ]
    }
   ],
   "source": [
    "max = data['age'].max()\n",
    "min = data['age'].min()\n",
    "print(f'The max ({max}) and min ({min}) ages are within normal ranges')"
   ]
  },
  {
   "cell_type": "markdown",
   "metadata": {},
   "source": [
    "#### Age distribution"
   ]
  },
  {
   "cell_type": "code",
   "execution_count": 5,
   "metadata": {},
   "outputs": [
    {
     "data": {
      "image/png": "[encoded data removed]",
      "text/plain": [
       "<Figure size 1080x576 with 1 Axes>"
      ]
     },
     "metadata": {
      "needs_background": "light"
     },
     "output_type": "display_data"
    }
   ],
   "source": [
    "ages = data['age']\n",
    "range = [0, 10, 20, 30, 40, 50, 60, 70, 80, 90, 100]\n",
    "plt.figure(figsize=(15,8))\n",
    "sns.set()\n",
    "plt.hist(ages, bins=range)\n",
    "plt.title(label=\"Age distribution\", fontsize=25)\n",
    "plt.xticks(range)\n",
    "plt.xlabel('Ages', fontsize=15)\n",
    "plt.ylabel('Amount of people', fontsize=15)\n",
    "plt.show()"
   ]
  },
  {
   "cell_type": "markdown",
   "metadata": {},
   "source": [
    "## Job"
   ]
  },
  {
   "cell_type": "markdown",
   "metadata": {},
   "source": [
    "Categorica nominal \n",
    "(cuantas categorias hay?, una col por categoria + top k)"
   ]
  },
  {
   "cell_type": "code",
   "execution_count": 6,
   "metadata": {},
   "outputs": [
    {
     "name": "stdout",
     "output_type": "stream",
     "text": [
      "admin.           8371\n",
      "blue-collar      7383\n",
      "technician       5418\n",
      "services         3173\n",
      "management       2328\n",
      "retired          1358\n",
      "entrepreneur     1156\n",
      "self-employed    1148\n",
      "housemaid         858\n",
      "unemployed        813\n",
      "student           698\n",
      "unknown           246\n",
      "Name: job, dtype: int64\n",
      "amount:  12\n"
     ]
    }
   ],
   "source": [
    "count = data['job'].value_counts()\n",
    "print(count)\n",
    "categories = data['job'].unique()\n",
    "print(\"amount: \", len(categories))"
   ]
  },
  {
   "cell_type": "markdown",
   "metadata": {},
   "source": [
    "Hay 246 datos faltantes. Creo que en este caso no tiene sentido imputarlos por valores parecidos (Hot deck), porque no hay datos de cuanto ganan ni nada que sea especifico de los trabajos.\n",
    "Podemos imputarlo aleatoriamente.\n",
    "\n",
    "Otra cosa: como podemos capaz juntarlos en categorías para disminuir en cols. Ej:\n",
    "- entrepreneur + self-employed \n",
    "- admin. + management\n",
    "- blue-collar\n",
    "- technician + services\n",
    "- retired + unemployed + student   \n",
    "- housemaid "
   ]
  },
  {
   "cell_type": "markdown",
   "metadata": {},
   "source": [
    "#### Missing data imputation"
   ]
  },
  {
   "cell_type": "code",
   "execution_count": null,
   "metadata": {},
   "outputs": [],
   "source": []
  },
  {
   "cell_type": "markdown",
   "metadata": {},
   "source": [
    "#### One hot encoding"
   ]
  },
  {
   "cell_type": "code",
   "execution_count": 7,
   "metadata": {},
   "outputs": [
    {
     "data": {
      "text/html": [
       "<div>\n",
       "<style scoped>\n",
       "    .dataframe tbody tr th:only-of-type {\n",
       "        vertical-align: middle;\n",
       "    }\n",
       "\n",
       "    .dataframe tbody tr th {\n",
       "        vertical-align: top;\n",
       "    }\n",
       "\n",
       "    .dataframe thead th {\n",
       "        text-align: right;\n",
       "    }\n",
       "</style>\n",
       "<table border=\"1\" class=\"dataframe\">\n",
       "  <thead>\n",
       "    <tr style=\"text-align: right;\">\n",
       "      <th></th>\n",
       "      <th>age</th>\n",
       "      <th>job</th>\n",
       "      <th>marital</th>\n",
       "      <th>education</th>\n",
       "      <th>default</th>\n",
       "      <th>housing</th>\n",
       "      <th>loan</th>\n",
       "      <th>contact</th>\n",
       "      <th>month</th>\n",
       "      <th>day_of_week</th>\n",
       "      <th>...</th>\n",
       "      <th>job_entrepreneur</th>\n",
       "      <th>job_housemaid</th>\n",
       "      <th>job_management</th>\n",
       "      <th>job_retired</th>\n",
       "      <th>job_self-employed</th>\n",
       "      <th>job_services</th>\n",
       "      <th>job_student</th>\n",
       "      <th>job_technician</th>\n",
       "      <th>job_unemployed</th>\n",
       "      <th>job_unknown</th>\n",
       "    </tr>\n",
       "  </thead>\n",
       "  <tbody>\n",
       "    <tr>\n",
       "      <th>0</th>\n",
       "      <td>31</td>\n",
       "      <td>admin.</td>\n",
       "      <td>single</td>\n",
       "      <td>university.degree</td>\n",
       "      <td>no</td>\n",
       "      <td>no</td>\n",
       "      <td>no</td>\n",
       "      <td>cellular</td>\n",
       "      <td>jul</td>\n",
       "      <td>tue</td>\n",
       "      <td>...</td>\n",
       "      <td>0</td>\n",
       "      <td>0</td>\n",
       "      <td>0</td>\n",
       "      <td>0</td>\n",
       "      <td>0</td>\n",
       "      <td>0</td>\n",
       "      <td>0</td>\n",
       "      <td>0</td>\n",
       "      <td>0</td>\n",
       "      <td>0</td>\n",
       "    </tr>\n",
       "    <tr>\n",
       "      <th>1</th>\n",
       "      <td>39</td>\n",
       "      <td>blue-collar</td>\n",
       "      <td>single</td>\n",
       "      <td>basic.4y</td>\n",
       "      <td>unknown</td>\n",
       "      <td>unknown</td>\n",
       "      <td>unknown</td>\n",
       "      <td>telephone</td>\n",
       "      <td>may</td>\n",
       "      <td>wed</td>\n",
       "      <td>...</td>\n",
       "      <td>0</td>\n",
       "      <td>0</td>\n",
       "      <td>0</td>\n",
       "      <td>0</td>\n",
       "      <td>0</td>\n",
       "      <td>0</td>\n",
       "      <td>0</td>\n",
       "      <td>0</td>\n",
       "      <td>0</td>\n",
       "      <td>0</td>\n",
       "    </tr>\n",
       "    <tr>\n",
       "      <th>2</th>\n",
       "      <td>70</td>\n",
       "      <td>retired</td>\n",
       "      <td>married</td>\n",
       "      <td>basic.4y</td>\n",
       "      <td>no</td>\n",
       "      <td>yes</td>\n",
       "      <td>no</td>\n",
       "      <td>cellular</td>\n",
       "      <td>oct</td>\n",
       "      <td>mon</td>\n",
       "      <td>...</td>\n",
       "      <td>0</td>\n",
       "      <td>0</td>\n",
       "      <td>0</td>\n",
       "      <td>1</td>\n",
       "      <td>0</td>\n",
       "      <td>0</td>\n",
       "      <td>0</td>\n",
       "      <td>0</td>\n",
       "      <td>0</td>\n",
       "      <td>0</td>\n",
       "    </tr>\n",
       "    <tr>\n",
       "      <th>3</th>\n",
       "      <td>37</td>\n",
       "      <td>admin.</td>\n",
       "      <td>single</td>\n",
       "      <td>university.degree</td>\n",
       "      <td>no</td>\n",
       "      <td>no</td>\n",
       "      <td>no</td>\n",
       "      <td>cellular</td>\n",
       "      <td>may</td>\n",
       "      <td>wed</td>\n",
       "      <td>...</td>\n",
       "      <td>0</td>\n",
       "      <td>0</td>\n",
       "      <td>0</td>\n",
       "      <td>0</td>\n",
       "      <td>0</td>\n",
       "      <td>0</td>\n",
       "      <td>0</td>\n",
       "      <td>0</td>\n",
       "      <td>0</td>\n",
       "      <td>0</td>\n",
       "    </tr>\n",
       "    <tr>\n",
       "      <th>4</th>\n",
       "      <td>48</td>\n",
       "      <td>admin.</td>\n",
       "      <td>married</td>\n",
       "      <td>high.school</td>\n",
       "      <td>no</td>\n",
       "      <td>no</td>\n",
       "      <td>no</td>\n",
       "      <td>telephone</td>\n",
       "      <td>nov</td>\n",
       "      <td>tue</td>\n",
       "      <td>...</td>\n",
       "      <td>0</td>\n",
       "      <td>0</td>\n",
       "      <td>0</td>\n",
       "      <td>0</td>\n",
       "      <td>0</td>\n",
       "      <td>0</td>\n",
       "      <td>0</td>\n",
       "      <td>0</td>\n",
       "      <td>0</td>\n",
       "      <td>0</td>\n",
       "    </tr>\n",
       "  </tbody>\n",
       "</table>\n",
       "<p>5 rows × 33 columns</p>\n",
       "</div>"
      ],
      "text/plain": [
       "   age          job  marital          education  default  housing     loan  \\\n",
       "0   31       admin.   single  university.degree       no       no       no   \n",
       "1   39  blue-collar   single           basic.4y  unknown  unknown  unknown   \n",
       "2   70      retired  married           basic.4y       no      yes       no   \n",
       "3   37       admin.   single  university.degree       no       no       no   \n",
       "4   48       admin.  married        high.school       no       no       no   \n",
       "\n",
       "     contact month day_of_week  ...  job_entrepreneur  job_housemaid  \\\n",
       "0   cellular   jul         tue  ...                 0              0   \n",
       "1  telephone   may         wed  ...                 0              0   \n",
       "2   cellular   oct         mon  ...                 0              0   \n",
       "3   cellular   may         wed  ...                 0              0   \n",
       "4  telephone   nov         tue  ...                 0              0   \n",
       "\n",
       "   job_management  job_retired job_self-employed  job_services  job_student  \\\n",
       "0               0            0                 0             0            0   \n",
       "1               0            0                 0             0            0   \n",
       "2               0            1                 0             0            0   \n",
       "3               0            0                 0             0            0   \n",
       "4               0            0                 0             0            0   \n",
       "\n",
       "   job_technician  job_unemployed  job_unknown  \n",
       "0               0               0            0  \n",
       "1               0               0            0  \n",
       "2               0               0            0  \n",
       "3               0               0            0  \n",
       "4               0               0            0  \n",
       "\n",
       "[5 rows x 33 columns]"
      ]
     },
     "execution_count": 7,
     "metadata": {},
     "output_type": "execute_result"
    }
   ],
   "source": [
    "clean_data = pd.concat([clean_data, pd.get_dummies(data['job'], prefix='job', drop_first = False)], axis=1)\n",
    "clean_data.drop(columns='job')\n",
    "clean_data.head()"
   ]
  },
  {
   "cell_type": "markdown",
   "metadata": {},
   "source": [
    "# Default"
   ]
  },
  {
   "cell_type": "code",
   "execution_count": null,
   "metadata": {},
   "outputs": [],
   "source": [
    "cant = data['default'].value_counts()\n",
    "cant"
   ]
  },
  {
   "cell_type": "code",
   "execution_count": null,
   "metadata": {},
   "outputs": [],
   "source": [
    "default = [cant['yes'], cant['no'], cant['unknown']]\n",
    "c = ( \"green\", \"blue\", \"orange\") \n",
    "props = { 'linewidth' : 1, 'edgecolor' : \"black\" } \n",
    "  \n",
    "fig, ax = plt.subplots(figsize =(15, 10)) \n",
    "wedges, autotexts, texts = ax.pie(default, explode = explode, labels = ['yes', 'no', 'unknown'], colors = c, startangle = 90,wedgeprops = props, autopct='%.2f', textprops = dict(color =\"white\", weight='bold', size = 12))\n",
    "  \n",
    "ax.legend(wedges, default, title =\"Default\", loc =\"center left\", bbox_to_anchor =(1.5, 0, 1.5, 1)) \n",
    "  \n",
    "plt.setp(autotexts, color='black') \n",
    "ax.set_title(\"Default\", fontsize=25, weight='bold') \n",
    "  \n",
    "plt.show() "
   ]
  },
  {
   "cell_type": "code",
   "execution_count": null,
   "metadata": {},
   "outputs": [],
   "source": [
    "from sklearn.preprocessing import LabelEncoder\n",
    "gle = LabelEncoder()\n",
    "labels = gle.fit_transform(data['default'])\n",
    "mappings = {index: label for index, label in enumerate(gle.classes_)}"
   ]
  },
  {
   "cell_type": "code",
   "execution_count": null,
   "metadata": {},
   "outputs": [],
   "source": [
    "data['default_labels'] = labels\n",
    "data.head(10)"
   ]
  },
  {
   "cell_type": "code",
   "execution_count": null,
   "metadata": {},
   "outputs": [],
   "source": [
    "data.corr(method ='pearson') "
   ]
  },
  {
   "cell_type": "markdown",
   "metadata": {},
   "source": [
    "## Housing"
   ]
  },
  {
   "cell_type": "markdown",
   "metadata": {},
   "source": [
    "This data is a categorical and nominal kind of data, there are 3 possible values: 'yes', 'no' and 'unknown'. <br>\n",
    "The feature engineering approach is to generate a label encoding scheme for mapping each category to a numeric value by leveraging scikit-learn.<br>\n",
    "Reference: https://towardsdatascience.com/understanding-feature-engineering-part-2-categorical-data-f54324193e63"
   ]
  },
  {
   "cell_type": "markdown",
   "metadata": {},
   "source": [
    "#### Outliers"
   ]
  },
  {
   "cell_type": "code",
   "execution_count": 8,
   "metadata": {},
   "outputs": [
    {
     "data": {
      "text/plain": [
       "yes        17292\n",
       "no         14869\n",
       "unknown      789\n",
       "Name: housing, dtype: int64"
      ]
     },
     "execution_count": 8,
     "metadata": {},
     "output_type": "execute_result"
    }
   ],
   "source": [
    "count = data['housing'].value_counts()\n",
    "count"
   ]
  },
  {
   "cell_type": "markdown",
   "metadata": {},
   "source": [
    "There are only 3 possible values and their distribution is withing normal ranges, therefore is not possible to have outliers"
   ]
  },
  {
   "cell_type": "markdown",
   "metadata": {},
   "source": [
    "#### Housing debt distribution"
   ]
  },
  {
   "cell_type": "code",
   "execution_count": 9,
   "metadata": {},
   "outputs": [
    {
     "data": {
      "image/png": "[encoded data removed]",
      "text/plain": [
       "<Figure size 1080x720 with 1 Axes>"
      ]
     },
     "metadata": {},
     "output_type": "display_data"
    }
   ],
   "source": [
    "housing = [count['yes'], count['no'], count['unknown']]\n",
    "explode = (0.05, 0.05, 0.05) \n",
    "colors = ( \"#003f5c\", \"#bc5090\", \"#ffa600\") \n",
    "wp = { 'linewidth' : 1, 'edgecolor' : \"black\" } \n",
    "  \n",
    "fig, ax = plt.subplots(figsize =(15, 10)) \n",
    "wedges, autotexts, texts = ax.pie(housing, explode = explode, labels = ['yes', 'no', 'unknown'], \n",
    "                           shadow = True, colors = colors, startangle = 90,\n",
    "                           wedgeprops = wp, autopct='%.2f', \n",
    "                           textprops = dict(color =\"white\", weight='bold', size = 15))\n",
    "  \n",
    "ax.legend(wedges, housing, \n",
    "          title =\"Has housing debt?\", \n",
    "          loc =\"center left\", \n",
    "          bbox_to_anchor =(1, 0, 1.5, 1)) \n",
    "  \n",
    "plt.setp(autotexts, color='black') \n",
    "ax.set_title(\"Housing distribution\", fontsize=25, weight='bold') \n",
    "  \n",
    "# show plot \n",
    "plt.show() "
   ]
  },
  {
   "cell_type": "markdown",
   "metadata": {},
   "source": [
    "#### Feature engineering"
   ]
  },
  {
   "cell_type": "code",
   "execution_count": 10,
   "metadata": {},
   "outputs": [
    {
     "data": {
      "text/plain": [
       "{0: 'no', 1: 'unknown', 2: 'yes'}"
      ]
     },
     "execution_count": 10,
     "metadata": {},
     "output_type": "execute_result"
    }
   ],
   "source": [
    "from sklearn.preprocessing import LabelEncoder\n",
    "\n",
    "\n",
    "gle = LabelEncoder()\n",
    "labels = gle.fit_transform(data['default'])\n",
    "mappings = {index: label for index, label in \n",
    "                  enumerate(gle.classes_)}\n",
    "mappings"
   ]
  },
  {
   "cell_type": "code",
   "execution_count": 11,
   "metadata": {},
   "outputs": [
    {
     "data": {
      "text/html": [
       "<div>\n",
       "<style scoped>\n",
       "    .dataframe tbody tr th:only-of-type {\n",
       "        vertical-align: middle;\n",
       "    }\n",
       "\n",
       "    .dataframe tbody tr th {\n",
       "        vertical-align: top;\n",
       "    }\n",
       "\n",
       "    .dataframe thead th {\n",
       "        text-align: right;\n",
       "    }\n",
       "</style>\n",
       "<table border=\"1\" class=\"dataframe\">\n",
       "  <thead>\n",
       "    <tr style=\"text-align: right;\">\n",
       "      <th></th>\n",
       "      <th>age</th>\n",
       "      <th>job</th>\n",
       "      <th>marital</th>\n",
       "      <th>education</th>\n",
       "      <th>default</th>\n",
       "      <th>housing</th>\n",
       "      <th>loan</th>\n",
       "      <th>contact</th>\n",
       "      <th>month</th>\n",
       "      <th>day_of_week</th>\n",
       "      <th>...</th>\n",
       "      <th>pdays</th>\n",
       "      <th>previous</th>\n",
       "      <th>poutcome</th>\n",
       "      <th>emp.var.rate</th>\n",
       "      <th>cons.price.idx</th>\n",
       "      <th>cons.conf.idx</th>\n",
       "      <th>euribor3m</th>\n",
       "      <th>nr.employed</th>\n",
       "      <th>y</th>\n",
       "      <th>housing_labels</th>\n",
       "    </tr>\n",
       "  </thead>\n",
       "  <tbody>\n",
       "    <tr>\n",
       "      <th>0</th>\n",
       "      <td>31</td>\n",
       "      <td>admin.</td>\n",
       "      <td>single</td>\n",
       "      <td>university.degree</td>\n",
       "      <td>no</td>\n",
       "      <td>no</td>\n",
       "      <td>no</td>\n",
       "      <td>cellular</td>\n",
       "      <td>jul</td>\n",
       "      <td>tue</td>\n",
       "      <td>...</td>\n",
       "      <td>999</td>\n",
       "      <td>0</td>\n",
       "      <td>nonexistent</td>\n",
       "      <td>1.4</td>\n",
       "      <td>93.918</td>\n",
       "      <td>-42.7</td>\n",
       "      <td>4.961</td>\n",
       "      <td>5228.1</td>\n",
       "      <td>no</td>\n",
       "      <td>0</td>\n",
       "    </tr>\n",
       "    <tr>\n",
       "      <th>1</th>\n",
       "      <td>39</td>\n",
       "      <td>blue-collar</td>\n",
       "      <td>single</td>\n",
       "      <td>basic.4y</td>\n",
       "      <td>unknown</td>\n",
       "      <td>unknown</td>\n",
       "      <td>unknown</td>\n",
       "      <td>telephone</td>\n",
       "      <td>may</td>\n",
       "      <td>wed</td>\n",
       "      <td>...</td>\n",
       "      <td>999</td>\n",
       "      <td>0</td>\n",
       "      <td>nonexistent</td>\n",
       "      <td>1.1</td>\n",
       "      <td>93.994</td>\n",
       "      <td>-36.4</td>\n",
       "      <td>4.857</td>\n",
       "      <td>5191.0</td>\n",
       "      <td>no</td>\n",
       "      <td>1</td>\n",
       "    </tr>\n",
       "    <tr>\n",
       "      <th>2</th>\n",
       "      <td>70</td>\n",
       "      <td>retired</td>\n",
       "      <td>married</td>\n",
       "      <td>basic.4y</td>\n",
       "      <td>no</td>\n",
       "      <td>yes</td>\n",
       "      <td>no</td>\n",
       "      <td>cellular</td>\n",
       "      <td>oct</td>\n",
       "      <td>mon</td>\n",
       "      <td>...</td>\n",
       "      <td>999</td>\n",
       "      <td>0</td>\n",
       "      <td>nonexistent</td>\n",
       "      <td>-3.4</td>\n",
       "      <td>92.431</td>\n",
       "      <td>-26.9</td>\n",
       "      <td>0.739</td>\n",
       "      <td>5017.5</td>\n",
       "      <td>yes</td>\n",
       "      <td>0</td>\n",
       "    </tr>\n",
       "    <tr>\n",
       "      <th>3</th>\n",
       "      <td>37</td>\n",
       "      <td>admin.</td>\n",
       "      <td>single</td>\n",
       "      <td>university.degree</td>\n",
       "      <td>no</td>\n",
       "      <td>no</td>\n",
       "      <td>no</td>\n",
       "      <td>cellular</td>\n",
       "      <td>may</td>\n",
       "      <td>wed</td>\n",
       "      <td>...</td>\n",
       "      <td>999</td>\n",
       "      <td>0</td>\n",
       "      <td>nonexistent</td>\n",
       "      <td>-1.8</td>\n",
       "      <td>92.893</td>\n",
       "      <td>-46.2</td>\n",
       "      <td>1.334</td>\n",
       "      <td>5099.1</td>\n",
       "      <td>no</td>\n",
       "      <td>0</td>\n",
       "    </tr>\n",
       "    <tr>\n",
       "      <th>4</th>\n",
       "      <td>48</td>\n",
       "      <td>admin.</td>\n",
       "      <td>married</td>\n",
       "      <td>high.school</td>\n",
       "      <td>no</td>\n",
       "      <td>no</td>\n",
       "      <td>no</td>\n",
       "      <td>telephone</td>\n",
       "      <td>nov</td>\n",
       "      <td>tue</td>\n",
       "      <td>...</td>\n",
       "      <td>999</td>\n",
       "      <td>2</td>\n",
       "      <td>failure</td>\n",
       "      <td>-1.1</td>\n",
       "      <td>94.767</td>\n",
       "      <td>-50.8</td>\n",
       "      <td>1.049</td>\n",
       "      <td>4963.6</td>\n",
       "      <td>no</td>\n",
       "      <td>0</td>\n",
       "    </tr>\n",
       "    <tr>\n",
       "      <th>5</th>\n",
       "      <td>46</td>\n",
       "      <td>services</td>\n",
       "      <td>married</td>\n",
       "      <td>high.school</td>\n",
       "      <td>unknown</td>\n",
       "      <td>no</td>\n",
       "      <td>yes</td>\n",
       "      <td>cellular</td>\n",
       "      <td>jul</td>\n",
       "      <td>mon</td>\n",
       "      <td>...</td>\n",
       "      <td>999</td>\n",
       "      <td>0</td>\n",
       "      <td>nonexistent</td>\n",
       "      <td>1.4</td>\n",
       "      <td>93.918</td>\n",
       "      <td>-42.7</td>\n",
       "      <td>4.960</td>\n",
       "      <td>5228.1</td>\n",
       "      <td>no</td>\n",
       "      <td>1</td>\n",
       "    </tr>\n",
       "    <tr>\n",
       "      <th>6</th>\n",
       "      <td>27</td>\n",
       "      <td>services</td>\n",
       "      <td>married</td>\n",
       "      <td>high.school</td>\n",
       "      <td>no</td>\n",
       "      <td>yes</td>\n",
       "      <td>no</td>\n",
       "      <td>cellular</td>\n",
       "      <td>jul</td>\n",
       "      <td>fri</td>\n",
       "      <td>...</td>\n",
       "      <td>999</td>\n",
       "      <td>0</td>\n",
       "      <td>nonexistent</td>\n",
       "      <td>1.4</td>\n",
       "      <td>93.918</td>\n",
       "      <td>-42.7</td>\n",
       "      <td>4.957</td>\n",
       "      <td>5228.1</td>\n",
       "      <td>no</td>\n",
       "      <td>0</td>\n",
       "    </tr>\n",
       "    <tr>\n",
       "      <th>7</th>\n",
       "      <td>47</td>\n",
       "      <td>admin.</td>\n",
       "      <td>divorced</td>\n",
       "      <td>high.school</td>\n",
       "      <td>no</td>\n",
       "      <td>yes</td>\n",
       "      <td>no</td>\n",
       "      <td>telephone</td>\n",
       "      <td>jun</td>\n",
       "      <td>thu</td>\n",
       "      <td>...</td>\n",
       "      <td>999</td>\n",
       "      <td>0</td>\n",
       "      <td>nonexistent</td>\n",
       "      <td>1.4</td>\n",
       "      <td>94.465</td>\n",
       "      <td>-41.8</td>\n",
       "      <td>4.961</td>\n",
       "      <td>5228.1</td>\n",
       "      <td>yes</td>\n",
       "      <td>0</td>\n",
       "    </tr>\n",
       "    <tr>\n",
       "      <th>8</th>\n",
       "      <td>25</td>\n",
       "      <td>self-employed</td>\n",
       "      <td>single</td>\n",
       "      <td>university.degree</td>\n",
       "      <td>no</td>\n",
       "      <td>yes</td>\n",
       "      <td>no</td>\n",
       "      <td>cellular</td>\n",
       "      <td>jun</td>\n",
       "      <td>fri</td>\n",
       "      <td>...</td>\n",
       "      <td>999</td>\n",
       "      <td>0</td>\n",
       "      <td>nonexistent</td>\n",
       "      <td>-2.9</td>\n",
       "      <td>92.963</td>\n",
       "      <td>-40.8</td>\n",
       "      <td>1.268</td>\n",
       "      <td>5076.2</td>\n",
       "      <td>no</td>\n",
       "      <td>0</td>\n",
       "    </tr>\n",
       "    <tr>\n",
       "      <th>9</th>\n",
       "      <td>27</td>\n",
       "      <td>blue-collar</td>\n",
       "      <td>single</td>\n",
       "      <td>basic.9y</td>\n",
       "      <td>no</td>\n",
       "      <td>no</td>\n",
       "      <td>no</td>\n",
       "      <td>cellular</td>\n",
       "      <td>jul</td>\n",
       "      <td>mon</td>\n",
       "      <td>...</td>\n",
       "      <td>999</td>\n",
       "      <td>0</td>\n",
       "      <td>nonexistent</td>\n",
       "      <td>1.4</td>\n",
       "      <td>93.918</td>\n",
       "      <td>-42.7</td>\n",
       "      <td>4.960</td>\n",
       "      <td>5228.1</td>\n",
       "      <td>no</td>\n",
       "      <td>0</td>\n",
       "    </tr>\n",
       "  </tbody>\n",
       "</table>\n",
       "<p>10 rows × 22 columns</p>\n",
       "</div>"
      ],
      "text/plain": [
       "   age            job   marital          education  default  housing     loan  \\\n",
       "0   31         admin.    single  university.degree       no       no       no   \n",
       "1   39    blue-collar    single           basic.4y  unknown  unknown  unknown   \n",
       "2   70        retired   married           basic.4y       no      yes       no   \n",
       "3   37         admin.    single  university.degree       no       no       no   \n",
       "4   48         admin.   married        high.school       no       no       no   \n",
       "5   46       services   married        high.school  unknown       no      yes   \n",
       "6   27       services   married        high.school       no      yes       no   \n",
       "7   47         admin.  divorced        high.school       no      yes       no   \n",
       "8   25  self-employed    single  university.degree       no      yes       no   \n",
       "9   27    blue-collar    single           basic.9y       no       no       no   \n",
       "\n",
       "     contact month day_of_week  ...  pdays  previous     poutcome  \\\n",
       "0   cellular   jul         tue  ...    999         0  nonexistent   \n",
       "1  telephone   may         wed  ...    999         0  nonexistent   \n",
       "2   cellular   oct         mon  ...    999         0  nonexistent   \n",
       "3   cellular   may         wed  ...    999         0  nonexistent   \n",
       "4  telephone   nov         tue  ...    999         2      failure   \n",
       "5   cellular   jul         mon  ...    999         0  nonexistent   \n",
       "6   cellular   jul         fri  ...    999         0  nonexistent   \n",
       "7  telephone   jun         thu  ...    999         0  nonexistent   \n",
       "8   cellular   jun         fri  ...    999         0  nonexistent   \n",
       "9   cellular   jul         mon  ...    999         0  nonexistent   \n",
       "\n",
       "   emp.var.rate cons.price.idx  cons.conf.idx  euribor3m  nr.employed    y  \\\n",
       "0           1.4         93.918          -42.7      4.961       5228.1   no   \n",
       "1           1.1         93.994          -36.4      4.857       5191.0   no   \n",
       "2          -3.4         92.431          -26.9      0.739       5017.5  yes   \n",
       "3          -1.8         92.893          -46.2      1.334       5099.1   no   \n",
       "4          -1.1         94.767          -50.8      1.049       4963.6   no   \n",
       "5           1.4         93.918          -42.7      4.960       5228.1   no   \n",
       "6           1.4         93.918          -42.7      4.957       5228.1   no   \n",
       "7           1.4         94.465          -41.8      4.961       5228.1  yes   \n",
       "8          -2.9         92.963          -40.8      1.268       5076.2   no   \n",
       "9           1.4         93.918          -42.7      4.960       5228.1   no   \n",
       "\n",
       "   housing_labels  \n",
       "0               0  \n",
       "1               1  \n",
       "2               0  \n",
       "3               0  \n",
       "4               0  \n",
       "5               1  \n",
       "6               0  \n",
       "7               0  \n",
       "8               0  \n",
       "9               0  \n",
       "\n",
       "[10 rows x 22 columns]"
      ]
     },
     "execution_count": 11,
     "metadata": {},
     "output_type": "execute_result"
    }
   ],
   "source": [
    "data['housing_labels'] = labels\n",
    "data.head(10)"
   ]
  },
  {
   "cell_type": "markdown",
   "metadata": {},
   "source": [
    "#### Correlation evaluation"
   ]
  },
  {
   "cell_type": "markdown",
   "metadata": {},
   "source": [
    "# FALTA CONTRA LOS VALORES QUE NO SON NUMERICOS"
   ]
  },
  {
   "cell_type": "code",
   "execution_count": 12,
   "metadata": {},
   "outputs": [
    {
     "data": {
      "text/html": [
       "<div>\n",
       "<style scoped>\n",
       "    .dataframe tbody tr th:only-of-type {\n",
       "        vertical-align: middle;\n",
       "    }\n",
       "\n",
       "    .dataframe tbody tr th {\n",
       "        vertical-align: top;\n",
       "    }\n",
       "\n",
       "    .dataframe thead th {\n",
       "        text-align: right;\n",
       "    }\n",
       "</style>\n",
       "<table border=\"1\" class=\"dataframe\">\n",
       "  <thead>\n",
       "    <tr style=\"text-align: right;\">\n",
       "      <th></th>\n",
       "      <th>age</th>\n",
       "      <th>duration</th>\n",
       "      <th>campaign</th>\n",
       "      <th>pdays</th>\n",
       "      <th>previous</th>\n",
       "      <th>emp.var.rate</th>\n",
       "      <th>cons.price.idx</th>\n",
       "      <th>cons.conf.idx</th>\n",
       "      <th>euribor3m</th>\n",
       "      <th>nr.employed</th>\n",
       "      <th>housing_labels</th>\n",
       "    </tr>\n",
       "  </thead>\n",
       "  <tbody>\n",
       "    <tr>\n",
       "      <th>age</th>\n",
       "      <td>1.000000</td>\n",
       "      <td>0.002847</td>\n",
       "      <td>0.002819</td>\n",
       "      <td>-0.035856</td>\n",
       "      <td>0.026519</td>\n",
       "      <td>0.000112</td>\n",
       "      <td>0.002811</td>\n",
       "      <td>0.127296</td>\n",
       "      <td>0.010991</td>\n",
       "      <td>-0.017799</td>\n",
       "      <td>0.164402</td>\n",
       "    </tr>\n",
       "    <tr>\n",
       "      <th>duration</th>\n",
       "      <td>0.002847</td>\n",
       "      <td>1.000000</td>\n",
       "      <td>-0.069869</td>\n",
       "      <td>-0.048326</td>\n",
       "      <td>0.025536</td>\n",
       "      <td>-0.034460</td>\n",
       "      <td>0.000501</td>\n",
       "      <td>-0.009431</td>\n",
       "      <td>-0.038950</td>\n",
       "      <td>-0.051114</td>\n",
       "      <td>-0.010540</td>\n",
       "    </tr>\n",
       "    <tr>\n",
       "      <th>campaign</th>\n",
       "      <td>0.002819</td>\n",
       "      <td>-0.069869</td>\n",
       "      <td>1.000000</td>\n",
       "      <td>0.051082</td>\n",
       "      <td>-0.078954</td>\n",
       "      <td>0.152342</td>\n",
       "      <td>0.130869</td>\n",
       "      <td>-0.014587</td>\n",
       "      <td>0.136691</td>\n",
       "      <td>0.145251</td>\n",
       "      <td>0.034520</td>\n",
       "    </tr>\n",
       "    <tr>\n",
       "      <th>pdays</th>\n",
       "      <td>-0.035856</td>\n",
       "      <td>-0.048326</td>\n",
       "      <td>0.051082</td>\n",
       "      <td>1.000000</td>\n",
       "      <td>-0.590188</td>\n",
       "      <td>0.274937</td>\n",
       "      <td>0.083261</td>\n",
       "      <td>-0.095368</td>\n",
       "      <td>0.299377</td>\n",
       "      <td>0.374621</td>\n",
       "      <td>0.081258</td>\n",
       "    </tr>\n",
       "    <tr>\n",
       "      <th>previous</th>\n",
       "      <td>0.026519</td>\n",
       "      <td>0.025536</td>\n",
       "      <td>-0.078954</td>\n",
       "      <td>-0.590188</td>\n",
       "      <td>1.000000</td>\n",
       "      <td>-0.421930</td>\n",
       "      <td>-0.204187</td>\n",
       "      <td>-0.050395</td>\n",
       "      <td>-0.456738</td>\n",
       "      <td>-0.502996</td>\n",
       "      <td>-0.100619</td>\n",
       "    </tr>\n",
       "    <tr>\n",
       "      <th>emp.var.rate</th>\n",
       "      <td>0.000112</td>\n",
       "      <td>-0.034460</td>\n",
       "      <td>0.152342</td>\n",
       "      <td>0.274937</td>\n",
       "      <td>-0.421930</td>\n",
       "      <td>1.000000</td>\n",
       "      <td>0.774406</td>\n",
       "      <td>0.198292</td>\n",
       "      <td>0.972267</td>\n",
       "      <td>0.906427</td>\n",
       "      <td>0.199734</td>\n",
       "    </tr>\n",
       "    <tr>\n",
       "      <th>cons.price.idx</th>\n",
       "      <td>0.002811</td>\n",
       "      <td>0.000501</td>\n",
       "      <td>0.130869</td>\n",
       "      <td>0.083261</td>\n",
       "      <td>-0.204187</td>\n",
       "      <td>0.774406</td>\n",
       "      <td>1.000000</td>\n",
       "      <td>0.060056</td>\n",
       "      <td>0.686713</td>\n",
       "      <td>0.519438</td>\n",
       "      <td>0.166511</td>\n",
       "    </tr>\n",
       "    <tr>\n",
       "      <th>cons.conf.idx</th>\n",
       "      <td>0.127296</td>\n",
       "      <td>-0.009431</td>\n",
       "      <td>-0.014587</td>\n",
       "      <td>-0.095368</td>\n",
       "      <td>-0.050395</td>\n",
       "      <td>0.198292</td>\n",
       "      <td>0.060056</td>\n",
       "      <td>1.000000</td>\n",
       "      <td>0.280013</td>\n",
       "      <td>0.102781</td>\n",
       "      <td>0.025959</td>\n",
       "    </tr>\n",
       "    <tr>\n",
       "      <th>euribor3m</th>\n",
       "      <td>0.010991</td>\n",
       "      <td>-0.038950</td>\n",
       "      <td>0.136691</td>\n",
       "      <td>0.299377</td>\n",
       "      <td>-0.456738</td>\n",
       "      <td>0.972267</td>\n",
       "      <td>0.686713</td>\n",
       "      <td>0.280013</td>\n",
       "      <td>1.000000</td>\n",
       "      <td>0.944882</td>\n",
       "      <td>0.192075</td>\n",
       "    </tr>\n",
       "    <tr>\n",
       "      <th>nr.employed</th>\n",
       "      <td>-0.017799</td>\n",
       "      <td>-0.051114</td>\n",
       "      <td>0.145251</td>\n",
       "      <td>0.374621</td>\n",
       "      <td>-0.502996</td>\n",
       "      <td>0.906427</td>\n",
       "      <td>0.519438</td>\n",
       "      <td>0.102781</td>\n",
       "      <td>0.944882</td>\n",
       "      <td>1.000000</td>\n",
       "      <td>0.186816</td>\n",
       "    </tr>\n",
       "    <tr>\n",
       "      <th>housing_labels</th>\n",
       "      <td>0.164402</td>\n",
       "      <td>-0.010540</td>\n",
       "      <td>0.034520</td>\n",
       "      <td>0.081258</td>\n",
       "      <td>-0.100619</td>\n",
       "      <td>0.199734</td>\n",
       "      <td>0.166511</td>\n",
       "      <td>0.025959</td>\n",
       "      <td>0.192075</td>\n",
       "      <td>0.186816</td>\n",
       "      <td>1.000000</td>\n",
       "    </tr>\n",
       "  </tbody>\n",
       "</table>\n",
       "</div>"
      ],
      "text/plain": [
       "                     age  duration  campaign     pdays  previous  \\\n",
       "age             1.000000  0.002847  0.002819 -0.035856  0.026519   \n",
       "duration        0.002847  1.000000 -0.069869 -0.048326  0.025536   \n",
       "campaign        0.002819 -0.069869  1.000000  0.051082 -0.078954   \n",
       "pdays          -0.035856 -0.048326  0.051082  1.000000 -0.590188   \n",
       "previous        0.026519  0.025536 -0.078954 -0.590188  1.000000   \n",
       "emp.var.rate    0.000112 -0.034460  0.152342  0.274937 -0.421930   \n",
       "cons.price.idx  0.002811  0.000501  0.130869  0.083261 -0.204187   \n",
       "cons.conf.idx   0.127296 -0.009431 -0.014587 -0.095368 -0.050395   \n",
       "euribor3m       0.010991 -0.038950  0.136691  0.299377 -0.456738   \n",
       "nr.employed    -0.017799 -0.051114  0.145251  0.374621 -0.502996   \n",
       "housing_labels  0.164402 -0.010540  0.034520  0.081258 -0.100619   \n",
       "\n",
       "                emp.var.rate  cons.price.idx  cons.conf.idx  euribor3m  \\\n",
       "age                 0.000112        0.002811       0.127296   0.010991   \n",
       "duration           -0.034460        0.000501      -0.009431  -0.038950   \n",
       "campaign            0.152342        0.130869      -0.014587   0.136691   \n",
       "pdays               0.274937        0.083261      -0.095368   0.299377   \n",
       "previous           -0.421930       -0.204187      -0.050395  -0.456738   \n",
       "emp.var.rate        1.000000        0.774406       0.198292   0.972267   \n",
       "cons.price.idx      0.774406        1.000000       0.060056   0.686713   \n",
       "cons.conf.idx       0.198292        0.060056       1.000000   0.280013   \n",
       "euribor3m           0.972267        0.686713       0.280013   1.000000   \n",
       "nr.employed         0.906427        0.519438       0.102781   0.944882   \n",
       "housing_labels      0.199734        0.166511       0.025959   0.192075   \n",
       "\n",
       "                nr.employed  housing_labels  \n",
       "age               -0.017799        0.164402  \n",
       "duration          -0.051114       -0.010540  \n",
       "campaign           0.145251        0.034520  \n",
       "pdays              0.374621        0.081258  \n",
       "previous          -0.502996       -0.100619  \n",
       "emp.var.rate       0.906427        0.199734  \n",
       "cons.price.idx     0.519438        0.166511  \n",
       "cons.conf.idx      0.102781        0.025959  \n",
       "euribor3m          0.944882        0.192075  \n",
       "nr.employed        1.000000        0.186816  \n",
       "housing_labels     0.186816        1.000000  "
      ]
     },
     "execution_count": 12,
     "metadata": {},
     "output_type": "execute_result"
    }
   ],
   "source": [
    "data.corr(method ='pearson') "
   ]
  },
  {
   "cell_type": "markdown",
   "metadata": {},
   "source": [
    "The Pearson correlation index indicates that there is no correlation between Housing and the other columns"
   ]
  },
  {
   "cell_type": "markdown",
   "metadata": {},
   "source": [
    "## Loan"
   ]
  },
  {
   "cell_type": "code",
   "execution_count": 13,
   "metadata": {},
   "outputs": [
    {
     "ename": "SyntaxError",
     "evalue": "invalid syntax (<ipython-input-13-c2a1a61ac456>, line 1)",
     "output_type": "error",
     "traceback": [
      "\u001b[0;36m  File \u001b[0;32m\"<ipython-input-13-c2a1a61ac456>\"\u001b[0;36m, line \u001b[0;32m1\u001b[0m\n\u001b[0;31m    binaria, faltantes (?) - evaluar correlacion con otras columnas (trabajo, edad)\u001b[0m\n\u001b[0m                        ^\u001b[0m\n\u001b[0;31mSyntaxError\u001b[0m\u001b[0;31m:\u001b[0m invalid syntax\n"
     ]
    }
   ],
   "source": [
    "binaria, faltantes (?) - evaluar correlacion con otras columnas (trabajo, edad) "
   ]
  },
  {
   "cell_type": "code",
   "execution_count": null,
   "metadata": {},
   "outputs": [],
   "source": [
    "count = data['loan'].value_counts()\n",
    "print(count)"
   ]
  },
  {
   "cell_type": "markdown",
   "metadata": {},
   "source": [
    "#### Missing data imputation"
   ]
  },
  {
   "cell_type": "code",
   "execution_count": null,
   "metadata": {},
   "outputs": [],
   "source": []
  },
  {
   "cell_type": "markdown",
   "metadata": {},
   "source": [
    "#### Encoding"
   ]
  },
  {
   "cell_type": "code",
   "execution_count": null,
   "metadata": {},
   "outputs": [],
   "source": [
    "clean_data = pd.concat([clean_data, pd.get_dummies(data['loan'], prefix='loan', drop_first = True)], axis=1)\n",
    "clean_data.drop(columns='loan')\n",
    "clean_data.head()"
   ]
  },
  {
   "cell_type": "markdown",
   "metadata": {},
   "source": [
    "# day_of_week"
   ]
  },
  {
   "cell_type": "code",
   "execution_count": null,
   "metadata": {},
   "outputs": [],
   "source": [
    "(data.day_of_week.unique())"
   ]
  },
  {
   "cell_type": "code",
   "execution_count": null,
   "metadata": {},
   "outputs": [],
   "source": [
    "def convertir(day_of_week):\n",
    "    if day_of_week == 'mon':\n",
    "        return 0\n",
    "    elif day_of_week == 'tue':\n",
    "        return 1\n",
    "    elif day_of_week == 'wed':\n",
    "        return 2\n",
    "    elif day_of_week == 'thu':\n",
    "        return 3\n",
    "    elif day_of_week == 'fri':\n",
    "        return 4\n",
    "data[\"day_of_week\"] = data[\"day_of_week\"].apply(convertir)\n",
    "data.head(10)"
   ]
  },
  {
   "cell_type": "markdown",
   "metadata": {},
   "source": [
    "## Duration"
   ]
  },
  {
   "cell_type": "markdown",
   "metadata": {},
   "source": [
    "This indicates the duration of the last call, in seconds. It is a numerical tyoe of data, with wide ranges."
   ]
  },
  {
   "cell_type": "markdown",
   "metadata": {},
   "source": [
    "#### Distribution"
   ]
  },
  {
   "cell_type": "code",
   "execution_count": null,
   "metadata": {},
   "outputs": [],
   "source": [
    "durations = data['duration']\n",
    "range = np.arange(0, 5000, 100)\n",
    "plt.figure(figsize=(15,8))\n",
    "sns.set()\n",
    "plt.hist(durations, bins=100)\n",
    "plt.title(label=\"Call duration distribution\", fontsize=25)\n",
    "plt.xticks(range, rotation=90)\n",
    "plt.xlabel('Durations', fontsize=15)\n",
    "plt.ylabel('Amount of calls', fontsize=15)\n",
    "plt.show()"
   ]
  },
  {
   "cell_type": "markdown",
   "metadata": {},
   "source": [
    "It seems that we have outliers for the calls that last more than 1600 seconds."
   ]
  },
  {
   "cell_type": "markdown",
   "metadata": {},
   "source": [
    "#### Outliers analysis"
   ]
  },
  {
   "cell_type": "code",
   "execution_count": null,
   "metadata": {
    "scrolled": true
   },
   "outputs": [],
   "source": [
    "data['duration'].describe()"
   ]
  },
  {
   "cell_type": "code",
   "execution_count": null,
   "metadata": {},
   "outputs": [],
   "source": [
    "plt.figure(figsize=(15,8))\n",
    "plt.title('Box plot - outlier detection', fontsize=15)\n",
    "plt.boxplot(data['duration'])\n",
    "plt.show()"
   ]
  },
  {
   "cell_type": "markdown",
   "metadata": {},
   "source": [
    "Using the describe function and the box plot is clear that the higher numbers are likely to be outliers. The Pearson correlation doesn't indicate a relation between the call duration and the other measured values, we can assume that this outliers won't bias out data because they seem to be caused completely at random."
   ]
  },
  {
   "cell_type": "markdown",
   "metadata": {},
   "source": [
    "#### Feature engineering"
   ]
  },
  {
   "cell_type": "markdown",
   "metadata": {},
   "source": [
    "The selected approach will be to do data binning for two main reasons:\n",
    "- Using the individual call durations has no utility for the analysis\n",
    "- We can treat the outliers and fit them into the top or lower bins\n",
    "<br>\n",
    "<br>\n",
    "We will use equal width binning, it tries to divide up the underlying data into equal sized bins.\n",
    "The qcut function from pandas will be used, it defines the bins using percentiles based on the distribution of the data, not the actual numeric edges of the bins.<br>\n",
    "Reference: https://pbpython.com/pandas-qcut-cut.html, https://pandas.pydata.org/pandas-docs/stable/reference/api/pandas.qcut.html"
   ]
  },
  {
   "cell_type": "code",
   "execution_count": null,
   "metadata": {},
   "outputs": [],
   "source": [
    "bins = pd.qcut(data['duration'], q=10)\n",
    "bins.value_counts()"
   ]
  },
  {
   "cell_type": "markdown",
   "metadata": {},
   "source": [
    "## Campaign"
   ]
  },
  {
   "cell_type": "code",
   "execution_count": null,
   "metadata": {},
   "outputs": [],
   "source": [
    "número de contactos realizados durante esta campaña y para este cliente -> solo evaluar si hay outliers"
   ]
  },
  {
   "cell_type": "code",
   "execution_count": null,
   "metadata": {},
   "outputs": [],
   "source": [
    "data['campaign'].describe()"
   ]
  },
  {
   "cell_type": "code",
   "execution_count": null,
   "metadata": {},
   "outputs": [],
   "source": [
    "amount_campaign = data['campaign']\n",
    "range = np.arange(1, 60, 1)\n",
    "plt.figure(figsize=(15,8))\n",
    "sns.set()\n",
    "plt.hist(amount_campaign, bins=60)\n",
    "plt.title(label=\"Amount of contacts during campaign distribution\", fontsize=25)\n",
    "plt.xticks(range, rotation=90)\n",
    "plt.xlabel('Amount of contacts', fontsize=15)\n",
    "plt.ylabel('Clients', fontsize=15)\n",
    "plt.show()"
   ]
  },
  {
   "cell_type": "markdown",
   "metadata": {},
   "source": [
    "Due to this distribution we are going to use a top-coding to normalize the data. \n",
    "\n",
    "#### Encoding"
   ]
  },
  {
   "cell_type": "code",
   "execution_count": null,
   "metadata": {},
   "outputs": [],
   "source": [
    "top_code = data['campaign'].quantile(0.75)"
   ]
  },
  {
   "cell_type": "code",
   "execution_count": null,
   "metadata": {},
   "outputs": [],
   "source": [
    "def campaign_top_coding(value):\n",
    "    if(value > top_code + 1):\n",
    "        return top_code + 1\n",
    "    else:\n",
    "        return value"
   ]
  },
  {
   "cell_type": "code",
   "execution_count": null,
   "metadata": {},
   "outputs": [],
   "source": [
    "clean_data['campaign'] = data['campaign'].apply(campaign_top_coding)\n",
    "clean_data['campaign'].value_counts()"
   ]
  },
  {
   "cell_type": "code",
   "execution_count": null,
   "metadata": {},
   "outputs": [],
   "source": []
  }
 ],
 "metadata": {
  "kernelspec": {
   "display_name": "Python 3",
   "language": "python",
   "name": "python3"
  },
  "language_info": {
   "codemirror_mode": {
    "name": "ipython",
    "version": 3
   },
   "file_extension": ".py",
   "mimetype": "text/x-python",
   "name": "python",
   "nbconvert_exporter": "python",
   "pygments_lexer": "ipython3",
   "version": "3.8.3"
  }
 },
 "nbformat": 4,
 "nbformat_minor": 4
}
